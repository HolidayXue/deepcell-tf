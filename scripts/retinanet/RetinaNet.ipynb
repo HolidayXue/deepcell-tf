{
 "cells": [
  {
   "cell_type": "markdown",
   "metadata": {},
   "source": [
    "# 2D Nuclear Segmentation with RetinaNet"
   ]
  },
  {
   "cell_type": "code",
   "execution_count": 1,
   "metadata": {},
   "outputs": [
    {
     "name": "stderr",
     "output_type": "stream",
     "text": [
      "Using TensorFlow backend.\n"
     ]
    }
   ],
   "source": [
    "import os\n",
    "import errno\n",
    "\n",
    "import numpy as np\n",
    "\n",
    "import deepcell"
   ]
  },
  {
   "cell_type": "code",
   "execution_count": 2,
   "metadata": {},
   "outputs": [
    {
     "name": "stdout",
     "output_type": "stream",
     "text": [
      "X.shape: (5760, 216, 256, 1)\n",
      "y.shape: (5760, 216, 256, 1)\n"
     ]
    }
   ],
   "source": [
    "# Download the data (saves to ~/.keras/datasets)\n",
    "filename = 'HeLa_S3.npz'\n",
    "(X_train, y_train), (X_test, y_test) = deepcell.datasets.hela_s3.load_data(filename)\n",
    "\n",
    "print('X.shape: {}\\ny.shape: {}'.format(X_train.shape, y_train.shape))"
   ]
  },
  {
   "cell_type": "markdown",
   "metadata": {},
   "source": [
    "### Set up filepath constants"
   ]
  },
  {
   "cell_type": "code",
   "execution_count": 3,
   "metadata": {},
   "outputs": [],
   "source": [
    "# the path to the data file is currently required for `train_model_()` functions\n",
    "\n",
    "# NOTE: Change DATA_DIR if you are not using `deepcell.datasets`\n",
    "DATA_DIR = os.path.expanduser(os.path.join('~', '.keras', 'datasets'))\n",
    "\n",
    "DATA_FILE = os.path.join(DATA_DIR, filename)\n",
    "\n",
    "# confirm the data file is available\n",
    "assert os.path.isfile(DATA_FILE)"
   ]
  },
  {
   "cell_type": "code",
   "execution_count": 4,
   "metadata": {},
   "outputs": [],
   "source": [
    "# Set up other required filepaths\n",
    "\n",
    "# If the data file is in a subdirectory, mirror it in MODEL_DIR and LOG_DIR\n",
    "PREFIX = os.path.relpath(os.path.dirname(DATA_FILE), DATA_DIR)\n",
    "\n",
    "ROOT_DIR = '/data'  # TODO: Change this! Usually a mounted volume\n",
    "MODEL_DIR = os.path.abspath(os.path.join(ROOT_DIR, 'models', PREFIX))\n",
    "LOG_DIR = os.path.abspath(os.path.join(ROOT_DIR, 'logs', PREFIX))\n",
    "\n",
    "# create directories if they do not exist\n",
    "for d in (MODEL_DIR, LOG_DIR):\n",
    "    try:\n",
    "        os.makedirs(d)\n",
    "    except OSError as exc:  # Guard against race condition\n",
    "        if exc.errno != errno.EEXIST:\n",
    "            raise"
   ]
  },
  {
   "cell_type": "markdown",
   "metadata": {},
   "source": [
    "### Set up training parameters"
   ]
  },
  {
   "cell_type": "code",
   "execution_count": 5,
   "metadata": {},
   "outputs": [],
   "source": [
    "from tensorflow.keras.optimizers import SGD, Adam\n",
    "from deepcell.utils.train_utils import rate_scheduler\n",
    "\n",
    "model_name = 'retinanet_model'\n",
    "backbone = 'vgg19'  # vgg16, vgg19, resnet50, densenet121, densenet169, densenet201\n",
    "\n",
    "n_epoch = 20  # Number of training epochs\n",
    "test_size = .20  # % of data saved as test\n",
    "lr = 1e-5\n",
    "\n",
    "optimizer = Adam(lr=lr, clipnorm=0.001)\n",
    "\n",
    "lr_sched = rate_scheduler(lr=lr, decay=0.99)\n",
    "\n",
    "batch_size = 1\n",
    "\n",
    "num_classes = 1  # \"object\" is the only class"
   ]
  },
  {
   "cell_type": "markdown",
   "metadata": {},
   "source": [
    "## Create the RetinaNet Model"
   ]
  },
  {
   "cell_type": "code",
   "execution_count": 6,
   "metadata": {
    "scrolled": false
   },
   "outputs": [],
   "source": [
    "from deepcell import model_zoo\n",
    "\n",
    "# training model is `retinanet` while prediction model is `retinanet_bbox`\n",
    "model = model_zoo.RetinaNet(\n",
    "    backbone=backbone,  \n",
    "    input_shape=X_train.shape[1:],\n",
    "    num_classes=num_classes)"
   ]
  },
  {
   "cell_type": "code",
   "execution_count": 7,
   "metadata": {},
   "outputs": [],
   "source": [
    "import tensorflow as tf\n",
    "from tensorflow.python.keras import backend as K\n",
    "\n",
    "from deepcell import losses\n",
    "\n",
    "def regress_loss(y_true, y_pred):\n",
    "    # separate target and state\n",
    "    regression = y_pred\n",
    "    regression_target = y_true[..., :-1]\n",
    "    anchor_state = y_true[..., -1]\n",
    "\n",
    "    # filter out \"ignore\" anchors\n",
    "    indices = tf.where(K.equal(anchor_state, 1))\n",
    "    regression = tf.gather_nd(regression, indices)\n",
    "    regression_target = tf.gather_nd(regression_target, indices)\n",
    "\n",
    "    # compute the normalizer: the number of positive anchors\n",
    "    normalizer = K.maximum(1, K.shape(indices)[0])\n",
    "    normalizer = K.cast(normalizer, dtype=K.floatx())\n",
    "\n",
    "    return losses.smooth_l1(regression_target, regression, sigma=3.0) / normalizer\n",
    "\n",
    "def classification_loss(y_true, y_pred):\n",
    "    labels = y_true[..., :-1]\n",
    "    # -1 for ignore, 0 for background, 1 for object\n",
    "    anchor_state = y_true[..., -1]\n",
    "\n",
    "    classification = y_pred\n",
    "    # filter out \"ignore\" anchors\n",
    "    indices = tf.where(K.not_equal(anchor_state, -1))\n",
    "    labels = tf.gather_nd(labels, indices)\n",
    "    classification = tf.gather_nd(classification, indices)\n",
    "\n",
    "    # compute the normalizer: the number of positive anchors\n",
    "    normalizer = tf.where(K.equal(anchor_state, 1))\n",
    "    normalizer = K.cast(K.shape(normalizer)[0], K.floatx())\n",
    "    normalizer = K.maximum(K.cast_to_floatx(1.0), normalizer)\n",
    "    # weighted_focal_loss gives classification loss of e-23\n",
    "    # weighted_categorical_crossentropy gives classification loss of e-10\n",
    "    return losses.focal(\n",
    "        labels, classification,\n",
    "        alpha=0.25,\n",
    "        gamma=2.0,) / normalizer"
   ]
  },
  {
   "cell_type": "code",
   "execution_count": 8,
   "metadata": {},
   "outputs": [],
   "source": [
    "# Compile the model\n",
    "model.compile(\n",
    "    loss={'regression': regress_loss,\n",
    "          'classification': classification_loss},\n",
    "    optimizer=optimizer)"
   ]
  },
  {
   "cell_type": "code",
   "execution_count": 9,
   "metadata": {},
   "outputs": [],
   "source": [
    "# Set up the prediction model\n",
    "from deepcell.model_zoo.retinanet import retinanet_bbox\n",
    "\n",
    "prediction_model = retinanet_bbox(model, nms=True, class_specific_filter=False)\n",
    "\n",
    "# ValueError: Cannot use 'filtered_detections/map/while/strided_slice_1'\n",
    "# as input to 'filtered_detections/map/while/ones/packed' because\n",
    "# 'filtered_detections/map/while/strided_slice_1' is in a while loop.\n",
    "\n",
    "# filtered_detections/map/while/ones/Less while context: None\n",
    "# filtered_detections/map/while/strided_slice_1 while context:\n",
    "#     filtered_detections/map/while/while_context"
   ]
  },
  {
   "cell_type": "code",
   "execution_count": 10,
   "metadata": {},
   "outputs": [],
   "source": [
    "from deepcell import image_generators\n",
    "\n",
    "# this will do preprocessing and realtime data augmentation\n",
    "datagen = image_generators.RetinaNetGenerator(\n",
    "    rotation_range=0,#180\n",
    "    shear_range=0,\n",
    "    zoom_range=0,#[0.8, 1.2],\n",
    "    horizontal_flip=0,\n",
    "    vertical_flip=0)\n",
    "\n",
    "datagen_val = image_generators.RetinaNetGenerator(\n",
    "    rotation_range=0,\n",
    "    shear_range=0,\n",
    "    zoom_range=0,\n",
    "    horizontal_flip=0,\n",
    "    vertical_flip=0)"
   ]
  },
  {
   "cell_type": "code",
   "execution_count": 11,
   "metadata": {},
   "outputs": [
    {
     "name": "stdout",
     "output_type": "stream",
     "text": [
      "WARNING:tensorflow:Removing 1095 of 5760 images with fewer than 3 objects.\n",
      "WARNING:tensorflow:Removing 276 of 1440 images with fewer than 3 objects.\n",
      "(4665, 216, 256, 1)\n",
      "(4665, 216, 256, 1)\n"
     ]
    }
   ],
   "source": [
    "from deepcell.utils.retinanet_anchor_utils import make_shapes_callback\n",
    "from deepcell.utils.retinanet_anchor_utils import guess_shapes\n",
    "\n",
    "if 'vgg' in backbone or 'densenet' in backbone:\n",
    "    compute_shapes = make_shapes_callback(model)\n",
    "else:\n",
    "    compute_shapes = guess_shapes\n",
    "\n",
    "train_data = datagen.flow(\n",
    "    {'X': X_train, 'y': y_train},\n",
    "    compute_shapes=compute_shapes,\n",
    "    batch_size=batch_size)\n",
    "\n",
    "val_data = datagen_val.flow(\n",
    "    {'X': X_test, 'y': y_test},\n",
    "    compute_shapes=compute_shapes,\n",
    "    batch_size=batch_size)\n",
    "\n",
    "print(train_data.x.shape)\n",
    "print(train_data.y.shape)"
   ]
  },
  {
   "cell_type": "code",
   "execution_count": 12,
   "metadata": {
    "scrolled": true
   },
   "outputs": [
    {
     "name": "stdout",
     "output_type": "stream",
     "text": [
      "Epoch 1/20\n",
      "5759/5760 [============================>.] - ETA: 0s - loss: 0.0221 - regression_loss: 0.0220 - classification_loss: 3.9149e-05\n",
      "Epoch 00001: saving model to /data/models/retinanet.h5\n",
      "7096 instances of class 0 with average precision: 0.0001\n",
      "mAP: 0.0001\n",
      "5760/5760 [==============================] - 377s 65ms/step - loss: 0.0221 - regression_loss: 0.0220 - classification_loss: 3.9143e-05\n",
      "Epoch 2/20\n",
      "5759/5760 [============================>.] - ETA: 0s - loss: 0.0136 - regression_loss: 0.0136 - classification_loss: 1.4222e-05\n",
      "Epoch 00002: saving model to /data/models/retinanet.h5\n",
      "7096 instances of class 0 with average precision: 0.0001\n",
      "mAP: 0.0001\n",
      "5760/5760 [==============================] - 365s 63ms/step - loss: 0.0136 - regression_loss: 0.0136 - classification_loss: 1.4220e-05\n",
      "Epoch 3/20\n",
      "5759/5760 [============================>.] - ETA: 0s - loss: 0.0101 - regression_loss: 0.0101 - classification_loss: 8.0689e-06\n",
      "Epoch 00003: saving model to /data/models/retinanet.h5\n",
      "7096 instances of class 0 with average precision: 0.0039\n",
      "mAP: 0.0039\n",
      "5760/5760 [==============================] - 362s 63ms/step - loss: 0.0101 - regression_loss: 0.0101 - classification_loss: 8.0680e-06\n",
      "Epoch 4/20\n",
      "5759/5760 [============================>.] - ETA: 0s - loss: 0.0080 - regression_loss: 0.0080 - classification_loss: 5.6710e-06\n",
      "Epoch 00004: saving model to /data/models/retinanet.h5\n",
      "7096 instances of class 0 with average precision: 0.1250\n",
      "mAP: 0.1250\n",
      "5760/5760 [==============================] - 365s 63ms/step - loss: 0.0080 - regression_loss: 0.0080 - classification_loss: 5.6710e-06\n",
      "Epoch 5/20\n",
      "5759/5760 [============================>.] - ETA: 0s - loss: 0.0070 - regression_loss: 0.0070 - classification_loss: 4.6465e-06\n",
      "Epoch 00005: saving model to /data/models/retinanet.h5\n",
      "7096 instances of class 0 with average precision: 0.3139\n",
      "mAP: 0.3139\n",
      "5760/5760 [==============================] - 367s 64ms/step - loss: 0.0070 - regression_loss: 0.0070 - classification_loss: 4.6461e-06\n",
      "Epoch 6/20\n",
      "5759/5760 [============================>.] - ETA: 0s - loss: 0.0064 - regression_loss: 0.0064 - classification_loss: 4.0099e-06\n",
      "Epoch 00006: saving model to /data/models/retinanet.h5\n",
      "7096 instances of class 0 with average precision: 0.4194\n",
      "mAP: 0.4194\n",
      "5760/5760 [==============================] - 365s 63ms/step - loss: 0.0064 - regression_loss: 0.0064 - classification_loss: 4.0095e-06\n",
      "Epoch 7/20\n",
      "5759/5760 [============================>.] - ETA: 0s - loss: 0.0058 - regression_loss: 0.0058 - classification_loss: 3.3403e-06\n",
      "Epoch 00007: saving model to /data/models/retinanet.h5\n",
      "7096 instances of class 0 with average precision: 0.1706\n",
      "mAP: 0.1706\n",
      "5760/5760 [==============================] - 363s 63ms/step - loss: 0.0058 - regression_loss: 0.0058 - classification_loss: 3.3403e-06\n",
      "Epoch 8/20\n",
      "5759/5760 [============================>.] - ETA: 0s - loss: 0.0054 - regression_loss: 0.0054 - classification_loss: 3.0760e-06\n",
      "Epoch 00008: saving model to /data/models/retinanet.h5\n",
      "7096 instances of class 0 with average precision: 0.3309\n",
      "mAP: 0.3309\n",
      "5760/5760 [==============================] - 365s 63ms/step - loss: 0.0054 - regression_loss: 0.0054 - classification_loss: 3.0772e-06\n",
      "Epoch 9/20\n",
      "5759/5760 [============================>.] - ETA: 0s - loss: 0.0050 - regression_loss: 0.0050 - classification_loss: 2.8915e-06\n",
      "Epoch 00009: saving model to /data/models/retinanet.h5\n",
      "7096 instances of class 0 with average precision: 0.7263\n",
      "mAP: 0.7263\n",
      "5760/5760 [==============================] - 363s 63ms/step - loss: 0.0050 - regression_loss: 0.0050 - classification_loss: 2.8912e-06\n",
      "Epoch 10/20\n",
      "5759/5760 [============================>.] - ETA: 0s - loss: 0.0046 - regression_loss: 0.0046 - classification_loss: 2.6796e-06\n",
      "Epoch 00010: saving model to /data/models/retinanet.h5\n",
      "7096 instances of class 0 with average precision: 0.8305\n",
      "mAP: 0.8305\n",
      "5760/5760 [==============================] - 356s 62ms/step - loss: 0.0046 - regression_loss: 0.0046 - classification_loss: 2.6796e-06\n",
      "Epoch 11/20\n",
      "3468/5760 [=================>............] - ETA: 2:16 - loss: 0.0048 - regression_loss: 0.0048 - classification_loss: 2.5598e-06"
     ]
    },
    {
     "name": "stderr",
     "output_type": "stream",
     "text": [
      "IOPub message rate exceeded.\n",
      "The notebook server will temporarily stop sending output\n",
      "to the client in order to avoid crashing it.\n",
      "To change this limit, set the config variable\n",
      "`--NotebookApp.iopub_msg_rate_limit`.\n",
      "\n",
      "Current values:\n",
      "NotebookApp.iopub_msg_rate_limit=1000.0 (msgs/sec)\n",
      "NotebookApp.rate_limit_window=3.0 (secs)\n",
      "\n"
     ]
    },
    {
     "name": "stdout",
     "output_type": "stream",
     "text": [
      "5759/5760 [============================>.] - ETA: 0s - loss: 0.0046 - regression_loss: 0.0046 - classification_loss: 2.4565e-06\n",
      "Epoch 00012: saving model to /data/models/retinanet.h5\n",
      "7096 instances of class 0 with average precision: 0.8743\n",
      "mAP: 0.8743\n",
      "5760/5760 [==============================] - 364s 63ms/step - loss: 0.0046 - regression_loss: 0.0046 - classification_loss: 2.4562e-06\n",
      "Epoch 13/20\n",
      "5759/5760 [============================>.] - ETA: 0s - loss: 0.0043 - regression_loss: 0.0043 - classification_loss: 2.3014e-06\n",
      "Epoch 00013: saving model to /data/models/retinanet.h5\n",
      "7096 instances of class 0 with average precision: 0.8712\n",
      "mAP: 0.8712\n",
      "5760/5760 [==============================] - 365s 63ms/step - loss: 0.0043 - regression_loss: 0.0043 - classification_loss: 2.3013e-06\n",
      "Epoch 14/20\n",
      "5759/5760 [============================>.] - ETA: 0s - loss: 0.0042 - regression_loss: 0.0042 - classification_loss: 2.2309e-06\n",
      "Epoch 00014: saving model to /data/models/retinanet.h5\n",
      "7096 instances of class 0 with average precision: 0.8960\n",
      "mAP: 0.8960\n",
      "5760/5760 [==============================] - 366s 64ms/step - loss: 0.0042 - regression_loss: 0.0042 - classification_loss: 2.2306e-06\n",
      "Epoch 15/20\n",
      "5759/5760 [============================>.] - ETA: 0s - loss: 0.0041 - regression_loss: 0.0041 - classification_loss: 2.0735e-06\n",
      "Epoch 00015: saving model to /data/models/retinanet.h5\n",
      "7096 instances of class 0 with average precision: 0.8882\n",
      "mAP: 0.8882\n",
      "5760/5760 [==============================] - 366s 64ms/step - loss: 0.0041 - regression_loss: 0.0041 - classification_loss: 2.0732e-06\n",
      "Epoch 16/20\n",
      "5759/5760 [============================>.] - ETA: 0s - loss: 0.0041 - regression_loss: 0.0041 - classification_loss: 2.0321e-06\n",
      "Epoch 00016: saving model to /data/models/retinanet.h5\n",
      "7096 instances of class 0 with average precision: 0.8945\n",
      "mAP: 0.8945\n",
      "5760/5760 [==============================] - 364s 63ms/step - loss: 0.0041 - regression_loss: 0.0041 - classification_loss: 2.0321e-06\n",
      "Epoch 17/20\n",
      "5759/5760 [============================>.] - ETA: 0s - loss: 0.0038 - regression_loss: 0.0038 - classification_loss: 1.9429e-06\n",
      "Epoch 00017: saving model to /data/models/retinanet.h5\n",
      "7096 instances of class 0 with average precision: 0.8917\n",
      "mAP: 0.8917\n",
      "5760/5760 [==============================] - 366s 64ms/step - loss: 0.0038 - regression_loss: 0.0038 - classification_loss: 1.9427e-06\n",
      "Epoch 18/20\n",
      "5759/5760 [============================>.] - ETA: 0s - loss: 0.0037 - regression_loss: 0.0037 - classification_loss: 1.7952e-06\n",
      "Epoch 00018: saving model to /data/models/retinanet.h5\n",
      "7096 instances of class 0 with average precision: 0.8662\n",
      "mAP: 0.8662\n",
      "5760/5760 [==============================] - 367s 64ms/step - loss: 0.0037 - regression_loss: 0.0037 - classification_loss: 1.7950e-06\n",
      "Epoch 19/20\n",
      "5759/5760 [============================>.] - ETA: 0s - loss: 0.0037 - regression_loss: 0.0037 - classification_loss: 1.7957e-06\n",
      "Epoch 00019: saving model to /data/models/retinanet.h5\n",
      "7096 instances of class 0 with average precision: 0.8909\n",
      "mAP: 0.8909\n",
      "5760/5760 [==============================] - 367s 64ms/step - loss: 0.0037 - regression_loss: 0.0037 - classification_loss: 1.7963e-06\n",
      "Epoch 20/20\n",
      "5759/5760 [============================>.] - ETA: 0s - loss: 0.0035 - regression_loss: 0.0035 - classification_loss: 1.7405e-06\n",
      "Epoch 00020: saving model to /data/models/retinanet.h5\n",
      "7096 instances of class 0 with average precision: 0.8917\n",
      "mAP: 0.8917\n",
      "5760/5760 [==============================] - 364s 63ms/step - loss: 0.0035 - regression_loss: 0.0035 - classification_loss: 1.7409e-06\n"
     ]
    }
   ],
   "source": [
    "from deepcell.callbacks import RedirectModel, Evaluate\n",
    "from tensorflow.keras import callbacks\n",
    "\n",
    "loss_history = model.fit_generator(\n",
    "    train_data,\n",
    "    steps_per_epoch=y_train.shape[0] // batch_size,\n",
    "    epochs=n_epoch,\n",
    "    # validation_data=val_data,\n",
    "    # validation_steps=y_test.shape[0] // batch_size,\n",
    "    callbacks=[\n",
    "        callbacks.LearningRateScheduler(lr_sched),\n",
    "        callbacks.ModelCheckpoint(\n",
    "            '/data/models/retinanet.h5',\n",
    "            # monitor='val_loss',\n",
    "            # save_best_only=True,\n",
    "            # save_weights_only=False,\n",
    "            verbose=1,),\n",
    "        callbacks.ReduceLROnPlateau(\n",
    "            monitor='loss', factor=0.1,\n",
    "            patience=10, verbose=1,\n",
    "            mode='auto', min_delta=0.0001,\n",
    "            cooldown=0, min_lr=0),\n",
    "        RedirectModel(\n",
    "            Evaluate(val_data, iou_threshold=.5, score_threshold=.01,\n",
    "                     max_detections=100, tensorboard=None, weighted_average=False),\n",
    "            prediction_model),\n",
    "    ])"
   ]
  },
  {
   "cell_type": "code",
   "execution_count": 13,
   "metadata": {},
   "outputs": [],
   "source": [
    "# prediction_model.load_weights('/data/models/retinanet.h5')"
   ]
  },
  {
   "cell_type": "code",
   "execution_count": 14,
   "metadata": {},
   "outputs": [
    {
     "name": "stdout",
     "output_type": "stream",
     "text": [
      "boxes shape: (1440, 300, 4)\n",
      "scores shape: (1440, 300)\n",
      "labels shape: (1440, 300)\n",
      "minimum score: -1.0\n",
      "maximum score: 0.99997807\n",
      "CPU times: user 7.73 s, sys: 2.02 s, total: 9.75 s\n",
      "Wall time: 6.5 s\n"
     ]
    }
   ],
   "source": [
    "%%time\n",
    "\n",
    "boxes, scores, labels = prediction_model.predict(X_test)\n",
    "\n",
    "print('boxes shape:', boxes.shape)\n",
    "print('scores shape:', scores.shape)\n",
    "print('labels shape:', labels.shape)\n",
    "print('minimum score:', scores.min())\n",
    "print('maximum score:', scores.max())"
   ]
  },
  {
   "cell_type": "code",
   "execution_count": 15,
   "metadata": {},
   "outputs": [
    {
     "name": "stdout",
     "output_type": "stream",
     "text": [
      "7096 instances of class 0 with average precision: 0.8917\n",
      "mAP using the weighted average of precisions among classes: 0.8917\n",
      "mAP: 0.8917\n",
      "CPU times: user 31.5 s, sys: 3.36 s, total: 34.9 s\n",
      "Wall time: 21.4 s\n"
     ]
    }
   ],
   "source": [
    "%%time\n",
    "\n",
    "from deepcell.utils.retinanet_anchor_utils import evaluate\n",
    "\n",
    "average_precisions = evaluate(\n",
    "    val_data,\n",
    "    prediction_model,\n",
    "    iou_threshold=.5,\n",
    "    score_threshold=.01,\n",
    "    max_detections=100\n",
    ")\n",
    "\n",
    "# print evaluation\n",
    "total_instances = []\n",
    "precisions = []\n",
    "for label, (average_precision, num_annotations) in average_precisions.items():\n",
    "    print('{:.0f} instances of class'.format(num_annotations),\n",
    "          label, 'with average precision: {:.4f}'.format(average_precision))\n",
    "    total_instances.append(num_annotations)\n",
    "    precisions.append(average_precision)\n",
    "    \n",
    "if sum(total_instances) == 0:\n",
    "    print('No test instances found.')\n",
    "else:\n",
    "    print('mAP using the weighted average of precisions among classes: {:.4f}'.format(sum([a * b for a, b in zip(total_instances, precisions)]) / sum(total_instances)))\n",
    "    print('mAP: {:.4f}'.format(sum(precisions) / sum(x > 0 for x in total_instances)))"
   ]
  },
  {
   "cell_type": "code",
   "execution_count": 17,
   "metadata": {},
   "outputs": [
    {
     "name": "stderr",
     "output_type": "stream",
     "text": [
      "Clipping input data to the valid range for imshow with RGB data ([0..1] for floats or [0..255] for integers).\n",
      "Clipping input data to the valid range for imshow with RGB data ([0..1] for floats or [0..255] for integers).\n"
     ]
    },
    {
     "name": "stdout",
     "output_type": "stream",
     "text": [
      "Image Number: 282\n",
      "processing time:  0.021111488342285156\n",
      "Minimum score: -1.0\n",
      "Maximum score: 0.99876773\n"
     ]
    },
    {
     "data": {
      "image/png": "[encoded data removed]",
      "text/plain": [
       "<Figure size 1080x1080 with 3 Axes>"
      ]
     },
     "metadata": {
      "needs_background": "light"
     },
     "output_type": "display_data"
    }
   ],
   "source": [
    "import matplotlib.pyplot as plt\n",
    "import os\n",
    "import time\n",
    "\n",
    "import numpy as np\n",
    "\n",
    "# from keras_maskrcnn.utils.visualization import draw_mask\n",
    "from keras_retinanet.utils.colors import label_color\n",
    "from keras_retinanet.utils.visualization import draw_box, draw_caption\n",
    "\n",
    "\n",
    "index = np.random.randint(low=0, high=X_test.shape[0])\n",
    "print('Image Number:', index)\n",
    "image, mask = X_test[index:index + 1], y_test[index:index + 1]\n",
    "\n",
    "start = time.time()\n",
    "boxes, scores, labels = prediction_model.predict(image)\n",
    "# boxes, scores, labels, masks = prediction_model.predict(image)\n",
    "print('processing time: ', time.time() - start)\n",
    "\n",
    "print('Minimum score:', scores.min())\n",
    "print('Maximum score:', scores.max())\n",
    "\n",
    "image = 0.01 * np.tile(np.expand_dims(image[0, ..., 0], axis=-1), (1, 1, 3))\n",
    "mask = np.squeeze(mask)\n",
    "\n",
    "# copy to draw on\n",
    "draw = image.copy()\n",
    "\n",
    "for box, score, label in zip(boxes[0], scores[0], labels[0]):\n",
    "    if score < 0.5:\n",
    "        break\n",
    "\n",
    "    color = label_color(label)\n",
    "\n",
    "    b = box.astype(int)\n",
    "    draw_box(draw, b, color=color)\n",
    "\n",
    "#     mask = mask[:, :, label]\n",
    "#     draw_mask(draw, b, mask, color=label_color(label))\n",
    "\n",
    "    caption = \"{:.3f}\".format(score)\n",
    "    draw_caption(draw, b, caption)\n",
    "\n",
    "fig, axes = plt.subplots(ncols=3, nrows=1, figsize=(15, 15), sharex=True, sharey=True)\n",
    "ax = axes.ravel()\n",
    "\n",
    "ax[0].imshow(image, cmap='jet')\n",
    "ax[0].set_title('Source Image')\n",
    "\n",
    "ax[1].imshow(mask, cmap='jet')\n",
    "ax[1].set_title('Labeled Data')\n",
    "\n",
    "ax[2].imshow(draw, cmap='jet')\n",
    "ax[2].set_title('Results')\n",
    "\n",
    "fig.tight_layout()\n",
    "plt.show()"
   ]
  },
  {
   "cell_type": "code",
   "execution_count": null,
   "metadata": {},
   "outputs": [],
   "source": []
  }
 ],
 "metadata": {
  "kernelspec": {
   "display_name": "Python 3",
   "language": "python",
   "name": "python3"
  },
  "language_info": {
   "codemirror_mode": {
    "name": "ipython",
    "version": 3
   },
   "file_extension": ".py",
   "mimetype": "text/x-python",
   "name": "python",
   "nbconvert_exporter": "python",
   "pygments_lexer": "ipython3",
   "version": "3.5.2"
  }
 },
 "nbformat": 4,
 "nbformat_minor": 2
}
